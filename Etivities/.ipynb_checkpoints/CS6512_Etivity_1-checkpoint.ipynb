{
 "cells": [
  {
   "cell_type": "markdown",
   "id": "b8e5ed62",
   "metadata": {},
   "source": [
    "<div>\n",
    "<img src=\"https://drive.google.com/uc?export=view&id=1vK33e_EqaHgBHcbRV_m38hx6IkG0blK_\" width=\"350\"/>\n",
    "</div> \n",
    "\n",
    "# **Artificial Intelligence - MSc**\n",
    "\n",
    "## CS6512 - AI & Data Science Ecosystems - Theory and Practice \n",
    "## SEM2 2021/2\n",
    "\n",
    "### CS6512 Etivity 1 - Implementing a Linear/Nonlinear Program in Python\n",
    "\n",
    "### Instructor: Emil Vassev\n",
    "March 29th, 2022\n",
    "<br><br>\n",
    "Copyright (C) 2022 - All rights reserved, do not copy or distribute without permission of the author.\n",
    "***"
   ]
  },
  {
   "cell_type": "markdown",
   "id": "6c2603d7",
   "metadata": {},
   "source": [
    "## Submission Info\n",
    "### Student Name: <span style=\"color:red\">TODO: add your name here</span>\n",
    "### Student Surname: <span style=\"color:red\">TODO: add your surname here</span>\n",
    "### Student ID: <span style=\"color:red\">TODO: add your student ID here</span>\n",
    "### Date of Final Submission: <span style=\"color:red\">TODO: put the date when you submitted for grading</span>\n",
    "***"
   ]
  },
  {
   "cell_type": "markdown",
   "id": "a2b8d751",
   "metadata": {},
   "source": [
    "## Task\n",
    "In this e-tivity, you are asked to determine the components of a linear/non-linear programming problem, and then to implement in Python a program that will solve that problem by using the <b>scipy.optimize</b> library. Please, consult the lectures of Week #2 for more details on how we determine the components of a linear/non-linear programming problem and also, how we implement linear/non-linear programs in Python. The program you are going to implement is based on a real-life scenario, which is invented by the author of this assignment and thus, the numbers provided are fictive.\n",
    "## The real-life scenario\n",
    "Mazda Motor Corporation produces three models of its CX series: Mazda CX-3, Mazda CX-5, and Mazda CX-9. Market projections indicate an expected monthly demand of at least: 3500 cars of the CX-3 model, 5000 cars of the CX-5 model, and 2100 cars of the CX-9 model.  Due to insufficient production capacity, no more than 4000 cars can be made of model CX-3, no more than 7000 cars can be made of model CX-5, and no more than 2500 cars can be made of model CX-9. Due to existing contracts with car dealers worldwide, a total of at least 12000 cars must be produced each month. Here is the financial result calculated as production cost – selling cost per model: \n",
    "<ul>\n",
    "<li>CX-3: EUR 3400 profit</li> \n",
    "<li>CX-5: EUR 2500 loss</li>\n",
    "<li>CX-9: EUR 7200 profit</li>\n",
    "</ul><br>\n",
    "How many cars of each Mazda CX model should be produced monthly, so to maximize the total net profit?  \n",
    "<br><br>\n",
    "<span style=\"color:blue\">The author of this assignment drives Mazda CX-5, 2021, and he loves it! He is convinced this car is undervalued. :)</span>"
   ]
  },
  {
   "cell_type": "markdown",
   "id": "5650d5f4",
   "metadata": {},
   "source": [
    "## Here are the steps you need to follow:"
   ]
  },
  {
   "cell_type": "markdown",
   "id": "a2788722",
   "metadata": {},
   "source": [
    "## Step 1: Determine the programming problem: linear or non-linear.  (5%)"
   ]
  },
  {
   "cell_type": "markdown",
   "id": "2b79ba17",
   "metadata": {},
   "source": [
    "<span style=\"color:red\">TODO: your rationale goes here</span>"
   ]
  },
  {
   "cell_type": "markdown",
   "id": "6b20db4c",
   "metadata": {},
   "source": [
    "## Step 2: Define the components of the LPP/NLPP tuple  <D, f, Fc , C, Cn, R, Tc>. (45%)"
   ]
  },
  {
   "cell_type": "markdown",
   "id": "5c5085e6",
   "metadata": {},
   "source": [
    "### Step 2.1: D - Decision Variables (5%)"
   ]
  },
  {
   "cell_type": "markdown",
   "id": "dc9249ff",
   "metadata": {},
   "source": [
    "<span style=\"color:red\">TODO: your description goes here</span>"
   ]
  },
  {
   "cell_type": "markdown",
   "id": "ee5b9a4b",
   "metadata": {},
   "source": [
    "### Step 2.2: f - Objective Function (20%)"
   ]
  },
  {
   "cell_type": "markdown",
   "id": "421d63a2",
   "metadata": {},
   "source": [
    "<span style=\"color:red\">TODO: your description goes here</span>"
   ]
  },
  {
   "cell_type": "markdown",
   "id": "c0ecd215",
   "metadata": {},
   "source": [
    "### Step 2.3: Fc - Objective Function Coefficients (3%)"
   ]
  },
  {
   "cell_type": "markdown",
   "id": "7e74f162",
   "metadata": {},
   "source": [
    "<span style=\"color:red\">TODO: your description goes here</span>"
   ]
  },
  {
   "cell_type": "markdown",
   "id": "c4a839dc",
   "metadata": {},
   "source": [
    "### Step 2.4: C - Constraints (10%)"
   ]
  },
  {
   "cell_type": "markdown",
   "id": "88e08a78",
   "metadata": {},
   "source": [
    "<span style=\"color:red\">TODO: your description goes here</span>"
   ]
  },
  {
   "cell_type": "markdown",
   "id": "28816827",
   "metadata": {},
   "source": [
    "### Step 2.5: Cn – Non-negative Constraints (3%) "
   ]
  },
  {
   "cell_type": "markdown",
   "id": "a6477c7b",
   "metadata": {},
   "source": [
    "<span style=\"color:red\">TODO: your description goes here</span>"
   ]
  },
  {
   "cell_type": "markdown",
   "id": "8801b01c",
   "metadata": {},
   "source": [
    "### Step 2.6: R – Resource Availability (2%)"
   ]
  },
  {
   "cell_type": "markdown",
   "id": "33cc0b0e",
   "metadata": {},
   "source": [
    "<span style=\"color:red\">TODO: your description goes here</span>"
   ]
  },
  {
   "cell_type": "markdown",
   "id": "cda865c6",
   "metadata": {},
   "source": [
    "### Step 2.7: Tc – Technological Coefficients (2%)"
   ]
  },
  {
   "cell_type": "markdown",
   "id": "4ecc3098",
   "metadata": {},
   "source": [
    "<span style=\"color:red\">TODO: your description goes here</span>"
   ]
  },
  {
   "cell_type": "markdown",
   "id": "e9de73a9",
   "metadata": {},
   "source": [
    "## Step 3: Implement the LPP/NLPP in Python by using scipy.optimize as shown in the lectures. (50%) "
   ]
  },
  {
   "cell_type": "markdown",
   "id": "26d8974d",
   "metadata": {},
   "source": [
    "Use the <b>scipy.optimize</b> library to implement a program that will solve the linear/non-linear programming problem specified in Step 2. "
   ]
  },
  {
   "cell_type": "markdown",
   "id": "bd3ae2ef",
   "metadata": {},
   "source": [
    "### Step 3.1: Implement the programming model. (40%)"
   ]
  },
  {
   "cell_type": "code",
   "execution_count": 1,
   "id": "c350d2fb",
   "metadata": {},
   "outputs": [],
   "source": [
    "# your code goes here"
   ]
  },
  {
   "cell_type": "markdown",
   "id": "9fc20d41",
   "metadata": {},
   "source": [
    "### Step 3.2: Execute the programming model. (8%)"
   ]
  },
  {
   "cell_type": "code",
   "execution_count": 2,
   "id": "b4241adf",
   "metadata": {},
   "outputs": [],
   "source": [
    "# your code goes here"
   ]
  },
  {
   "cell_type": "markdown",
   "id": "b6b85948",
   "metadata": {},
   "source": [
    "### Step 3.3: Show the result of your program's execution. (2%)"
   ]
  },
  {
   "cell_type": "code",
   "execution_count": 3,
   "id": "9c60a865",
   "metadata": {},
   "outputs": [],
   "source": [
    "# your code goes here"
   ]
  }
 ],
 "metadata": {
  "kernelspec": {
   "display_name": "Python 3 (ipykernel)",
   "language": "python",
   "name": "python3"
  },
  "language_info": {
   "codemirror_mode": {
    "name": "ipython",
    "version": 3
   },
   "file_extension": ".py",
   "mimetype": "text/x-python",
   "name": "python",
   "nbconvert_exporter": "python",
   "pygments_lexer": "ipython3",
   "version": "3.9.7"
  }
 },
 "nbformat": 4,
 "nbformat_minor": 5
}
