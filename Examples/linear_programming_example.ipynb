{
 "cells": [
  {
   "cell_type": "markdown",
   "id": "cc892b41",
   "metadata": {},
   "source": [
    "## Linear Programming Problem Example "
   ]
  },
  {
   "cell_type": "markdown",
   "id": "c536b9f8",
   "metadata": {},
   "source": [
    "<div>\n",
    "<img src=\"images/lpp.png\" align=\"left\" />\n",
    "</div> "
   ]
  },
  {
   "cell_type": "markdown",
   "id": "042db32c",
   "metadata": {},
   "source": [
    "This example has been extracted from <a link=\"https://realpython.com/linear-programming-python/\" target=\"new\">Hands-On Linear Programming: Optimization With Python</a>"
   ]
  },
  {
   "cell_type": "code",
   "execution_count": 1,
   "id": "23535df1",
   "metadata": {},
   "outputs": [],
   "source": [
    "from scipy.optimize import linprog"
   ]
  },
  {
   "cell_type": "markdown",
   "id": "0c068989",
   "metadata": {},
   "source": [
    "### Note\n",
    "linprog() solves only minimization (not maximization) problems and doesn’t allow inequality constraints with the greater than or equal to sign (≥). To work around these issues, you need to modify your problem before starting optimization:\n",
    "\n",
    "<li>Instead of maximizing z = x + 2y, you can minimize its negative(−z = −x − 2y).</li>\n",
    "<li>Instead of having the greater than or equal to sign, you can multiply the yellow inequality by −1 and get the opposite less than or equal to sign (≤).</li>"
   ]
  },
  {
   "cell_type": "code",
   "execution_count": 2,
   "id": "c05aba52",
   "metadata": {},
   "outputs": [],
   "source": [
    "obj = [-1, -2]\n",
    "#      ─┬  ─┬\n",
    "#       │   └┤ Coefficient for y\n",
    "#       └────┤ Coefficient for x\n",
    "\n",
    "lhs_ineq = [[ 2,  1],  # Red constraint left side\n",
    "            [-4,  5],  # Blue constraint left side\n",
    "            [ 1, -2]]  # Yellow constraint left side\n",
    "\n",
    "rhs_ineq = [20,  # Red constraint right side\n",
    "            10,  # Blue constraint right side\n",
    "             2]  # Yellow constraint right side\n",
    "\n",
    "lhs_eq = [[-1, 5]]  # Green constraint left side\n",
    "rhs_eq = [15]       # Green constraint right side"
   ]
  },
  {
   "attachments": {},
   "cell_type": "markdown",
   "id": "ec78b985",
   "metadata": {},
   "source": [
    "In the following lines of code: \n",
    "<li><b>bnd definition</b> - defines the bounds for each variable in the same order as the coefficients</li>\n",
    "<li><b>linprog() function</b> - optimizes and solves the problem by executing</li>\n",
    "<li><b>opt</b> – shows the result</li>"
   ]
  },
  {
   "cell_type": "code",
   "execution_count": 3,
   "id": "12cd9e21",
   "metadata": {},
   "outputs": [],
   "source": [
    "bnd = [(0, float(\"inf\")),  # Bounds of x\n",
    "       (0, float(\"inf\"))]  # Bounds of y"
   ]
  },
  {
   "cell_type": "code",
   "execution_count": 4,
   "id": "0f9d9650",
   "metadata": {},
   "outputs": [],
   "source": [
    "opt = linprog(c=obj, A_ub=lhs_ineq, b_ub=rhs_ineq,\n",
    "              A_eq=lhs_eq, b_eq=rhs_eq, bounds=bnd,\n",
    "              method=\"revised simplex\")"
   ]
  },
  {
   "cell_type": "code",
   "execution_count": 5,
   "id": "0d93f5da",
   "metadata": {},
   "outputs": [
    {
     "data": {
      "text/plain": [
       "     con: array([0.])\n",
       "     fun: -16.818181818181817\n",
       " message: 'Optimization terminated successfully.'\n",
       "     nit: 3\n",
       "   slack: array([ 0.        , 18.18181818,  3.36363636])\n",
       "  status: 0\n",
       " success: True\n",
       "       x: array([7.72727273, 4.54545455])"
      ]
     },
     "execution_count": 5,
     "metadata": {},
     "output_type": "execute_result"
    }
   ],
   "source": [
    "opt"
   ]
  },
  {
   "cell_type": "code",
   "execution_count": null,
   "id": "c0705d85",
   "metadata": {},
   "outputs": [],
   "source": []
  }
 ],
 "metadata": {
  "kernelspec": {
   "display_name": "Python 3 (ipykernel)",
   "language": "python",
   "name": "python3"
  },
  "language_info": {
   "codemirror_mode": {
    "name": "ipython",
    "version": 3
   },
   "file_extension": ".py",
   "mimetype": "text/x-python",
   "name": "python",
   "nbconvert_exporter": "python",
   "pygments_lexer": "ipython3",
   "version": "3.9.7"
  }
 },
 "nbformat": 4,
 "nbformat_minor": 5
}
