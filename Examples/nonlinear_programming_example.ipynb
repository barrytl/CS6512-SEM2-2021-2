{
 "cells": [
  {
   "cell_type": "markdown",
   "id": "d92d90f3",
   "metadata": {},
   "source": [
    "## Non-Linear Programming Problem Example "
   ]
  },
  {
   "cell_type": "markdown",
   "id": "ea63b8fa",
   "metadata": {},
   "source": [
    "<div>\n",
    "<img src=\"images/nlpp.png\" align=\"left\" />\n",
    "</div> "
   ]
  },
  {
   "cell_type": "code",
   "execution_count": 3,
   "id": "b040bc56",
   "metadata": {},
   "outputs": [
    {
     "ename": "ImportError",
     "evalue": "cannot import name 'maximize' from 'scipy.optimize' (C:\\Users\\Emil\\anaconda3\\lib\\site-packages\\scipy\\optimize\\__init__.py)",
     "output_type": "error",
     "traceback": [
      "\u001b[1;31m---------------------------------------------------------------------------\u001b[0m",
      "\u001b[1;31mImportError\u001b[0m                               Traceback (most recent call last)",
      "\u001b[1;32m~\\AppData\\Local\\Temp/ipykernel_25516/425535943.py\u001b[0m in \u001b[0;36m<module>\u001b[1;34m\u001b[0m\n\u001b[0;32m      1\u001b[0m \u001b[1;32mimport\u001b[0m \u001b[0mnumpy\u001b[0m \u001b[1;32mas\u001b[0m \u001b[0mnp\u001b[0m\u001b[1;33m\u001b[0m\u001b[1;33m\u001b[0m\u001b[0m\n\u001b[0;32m      2\u001b[0m \u001b[1;32mfrom\u001b[0m \u001b[0mscipy\u001b[0m\u001b[1;33m.\u001b[0m\u001b[0moptimize\u001b[0m \u001b[1;32mimport\u001b[0m \u001b[0mminimize\u001b[0m\u001b[1;33m\u001b[0m\u001b[1;33m\u001b[0m\u001b[0m\n\u001b[1;32m----> 3\u001b[1;33m \u001b[1;32mfrom\u001b[0m \u001b[0mscipy\u001b[0m\u001b[1;33m.\u001b[0m\u001b[0moptimize\u001b[0m \u001b[1;32mimport\u001b[0m \u001b[0mmaximize\u001b[0m\u001b[1;33m\u001b[0m\u001b[1;33m\u001b[0m\u001b[0m\n\u001b[0m",
      "\u001b[1;31mImportError\u001b[0m: cannot import name 'maximize' from 'scipy.optimize' (C:\\Users\\Emil\\anaconda3\\lib\\site-packages\\scipy\\optimize\\__init__.py)"
     ]
    }
   ],
   "source": [
    "import numpy as np\n",
    "from scipy.optimize import minimize"
   ]
  },
  {
   "attachments": {},
   "cell_type": "markdown",
   "id": "00708998",
   "metadata": {},
   "source": [
    "In the following lines of code:\n",
    "\n",
    "<li><b>obj_fun</b>: defines objective function; decision variables x are an array x[]</li>\n",
    "<li><b>A</b>: array of constraint coefficients</li>\n",
    "<li><b>b</b>: array of resource availabilities</li>\n",
    "<li><b>bonds</b>: non-negative constraints for x1 an x2</li>\n",
    "<li><b>xinit</b>: starting point of search</li>"
   ]
  },
  {
   "cell_type": "code",
   "execution_count": 2,
   "id": "552acc87",
   "metadata": {},
   "outputs": [],
   "source": [
    "obj_fun = lambda x: (x[0] - 1)**2 + (x[1] - 2.5)**2\n",
    "A = np.array([[1, -2], [-1, -2], [-1, 2]])\n",
    "b = np.array([-2, -6, -2])\n",
    "bnds = [(0, None) for i in range(A.shape[1])]  # x_1 >= 0, x_2 >= 0\n",
    "xinit = [0, 0] "
   ]
  },
  {
   "attachments": {},
   "cell_type": "markdown",
   "id": "b9298672",
   "metadata": {},
   "source": [
    "Constraints: \n",
    "<li>linear and we express them as an affin-linear function A*x-b</li>\n",
    "<li>defined as a dictionary where constr_fun is a callable function such that constr_fun >= 0</li>"
   ]
  },
  {
   "cell_type": "code",
   "execution_count": 2,
   "id": "d7457a23",
   "metadata": {},
   "outputs": [],
   "source": [
    "cons = [{'type': 'ineq', 'fun': lambda x:  x[0] - 2 * x[1] + 2},\n",
    "        {'type': 'ineq', 'fun': lambda x: -x[0] - 2 * x[1] + 6},\n",
    "        {'type': 'ineq', 'fun': lambda x: -x[0] + 2 * x[1] + 2}]"
   ]
  },
  {
   "cell_type": "code",
   "execution_count": 3,
   "id": "3be17953",
   "metadata": {},
   "outputs": [
    {
     "name": "stdout",
     "output_type": "stream",
     "text": [
      "     fun: 0.799999999999998\n",
      "     jac: array([ 0.79999999, -1.59999999])\n",
      " message: 'Optimization terminated successfully'\n",
      "    nfev: 12\n",
      "     nit: 4\n",
      "    njev: 4\n",
      "  status: 0\n",
      " success: True\n",
      "       x: array([1.39999999, 1.69999999])\n"
     ]
    }
   ],
   "source": [
    "res = minimize(obj_fun, x0=xinit, bounds=bnds, constraints=cons)\n",
    "print(res)"
   ]
  },
  {
   "cell_type": "code",
   "execution_count": null,
   "id": "810dbfdb",
   "metadata": {},
   "outputs": [],
   "source": []
  }
 ],
 "metadata": {
  "kernelspec": {
   "display_name": "Python 3 (ipykernel)",
   "language": "python",
   "name": "python3"
  },
  "language_info": {
   "codemirror_mode": {
    "name": "ipython",
    "version": 3
   },
   "file_extension": ".py",
   "mimetype": "text/x-python",
   "name": "python",
   "nbconvert_exporter": "python",
   "pygments_lexer": "ipython3",
   "version": "3.9.7"
  }
 },
 "nbformat": 4,
 "nbformat_minor": 5
}
