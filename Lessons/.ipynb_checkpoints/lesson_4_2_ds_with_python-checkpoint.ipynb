{
 "cells": [
  {
   "cell_type": "markdown",
   "id": "58e6c83a",
   "metadata": {},
   "source": [
    "# Data Science with Python - Outlier Detection\n",
    "\n",
    "## Outliers\n",
    "\n",
    "Outliers are data points that don’t belong to a certain population. They are abnormal observations that lie far away from other values.<br><b><i>Outliers are observations that diverge from an overall pattern on a sample.</i></b>\n",
    "\n",
    "Example: {20,24,22,19,29,18,<b>4300</b>,30,18}\n",
    "\n",
    "<b>Outliers can be of two kinds</b>: \n",
    "<ul>\n",
    "<li><i>univariate</i> - can be found when looking at a distribution of values in a single feature space</li>\n",
    "<li><i>multivariate</i> - can be found in a n-dimensional space (of n-features)</li>\n",
    "</ul>\n",
    "\n",
    "## Methods\n",
    "\n",
    "<ul>\n",
    "<li>Standard Deviation</li>\n",
    "<li>Dixon Q</li>\n",
    "<li>Boxplots</li>\n",
    "<li>DBScan Clustering</li>\n",
    "<li>Isolation Forest</li>\n",
    "<li>Robust Random Cut Forest</li>\n",
    "</ul>\n",
    "\n",
    "### Standard Deviation\n"
   ]
  },
  {
   "cell_type": "code",
   "execution_count": 4,
   "id": "222c82dc",
   "metadata": {},
   "outputs": [],
   "source": [
    "series = [100.625,96,122.873307,125.918466,126.5132685,87.640727,91.300919,\n",
    "          100.6596,119.999811,116.48158,117.9620459,118.7118,121.562339,\n",
    "          146.902942,141.993982,143.9881,142.135173,123.531172,133.782315,\n",
    "          126.077418,130.4194537,108.123033,113.338919,106.6014,109.593951,\n",
    "          126.97778,126.550827,128.7285245,130.6084,130.799433,100.340734,\n",
    "          106.584198,197.4606,79.782605,167.574109,169.114286,159.2281,\n",
    "          77.141509,75.671004,110.84316,112.30969,117.942093,63,65,60,\n",
    "          130.703856,119.597655,141.648019,145.018004,142.8685393,145.6221,\n",
    "          145.503622,97.600952,92,103.824548,123.521852,112.409556,110.995964,\n",
    "          122.25,94.931864,104.851577,108.4738,134.262473,99.746662,99.8667,\n",
    "          76.813091,72.5126,117.665167,120.103798,121.5737367,118.1471,\n",
    "          126.588321,142.899425,136.782077,115.963214,124.339492,156.476319,\n",
    "          169.429444,172.353,164.957759,63,64,40,111.977501,114.672941,\n",
    "          118.0479,115.514796,105.948,88.050064,111.848821,108.69286,\n",
    "          108.056866,110.125964,97.1435,110.399885,126.046539,125.154034,\n",
    "          128.575127]\n",
    "\n",
    "df = pd.DataFrame({'test':series})"
   ]
  },
  {
   "cell_type": "code",
   "execution_count": 5,
   "id": "fd68e565",
   "metadata": {},
   "outputs": [
    {
     "data": {
      "text/html": [
       "<div>\n",
       "<style scoped>\n",
       "    .dataframe tbody tr th:only-of-type {\n",
       "        vertical-align: middle;\n",
       "    }\n",
       "\n",
       "    .dataframe tbody tr th {\n",
       "        vertical-align: top;\n",
       "    }\n",
       "\n",
       "    .dataframe thead th {\n",
       "        text-align: right;\n",
       "    }\n",
       "</style>\n",
       "<table border=\"1\" class=\"dataframe\">\n",
       "  <thead>\n",
       "    <tr style=\"text-align: right;\">\n",
       "      <th></th>\n",
       "      <th>test</th>\n",
       "    </tr>\n",
       "  </thead>\n",
       "  <tbody>\n",
       "    <tr>\n",
       "      <th>count</th>\n",
       "      <td>98.000000</td>\n",
       "    </tr>\n",
       "    <tr>\n",
       "      <th>mean</th>\n",
       "      <td>116.713784</td>\n",
       "    </tr>\n",
       "    <tr>\n",
       "      <th>std</th>\n",
       "      <td>26.780257</td>\n",
       "    </tr>\n",
       "    <tr>\n",
       "      <th>min</th>\n",
       "      <td>40.000000</td>\n",
       "    </tr>\n",
       "    <tr>\n",
       "      <th>25%</th>\n",
       "      <td>104.081305</td>\n",
       "    </tr>\n",
       "    <tr>\n",
       "      <th>50%</th>\n",
       "      <td>117.952069</td>\n",
       "    </tr>\n",
       "    <tr>\n",
       "      <th>75%</th>\n",
       "      <td>129.996721</td>\n",
       "    </tr>\n",
       "    <tr>\n",
       "      <th>max</th>\n",
       "      <td>197.460600</td>\n",
       "    </tr>\n",
       "  </tbody>\n",
       "</table>\n",
       "</div>"
      ],
      "text/plain": [
       "             test\n",
       "count   98.000000\n",
       "mean   116.713784\n",
       "std     26.780257\n",
       "min     40.000000\n",
       "25%    104.081305\n",
       "50%    117.952069\n",
       "75%    129.996721\n",
       "max    197.460600"
      ]
     },
     "execution_count": 5,
     "metadata": {},
     "output_type": "execute_result"
    }
   ],
   "source": [
    "df.describe()"
   ]
  },
  {
   "cell_type": "code",
   "execution_count": 6,
   "id": "46bf313f",
   "metadata": {},
   "outputs": [
    {
     "data": {
      "text/plain": [
       "<AxesSubplot:>"
      ]
     },
     "execution_count": 6,
     "metadata": {},
     "output_type": "execute_result"
    },
    {
     "data": {
      "image/png": "[encoded data removed]",
      "text/plain": [
       "<Figure size 432x288 with 1 Axes>"
      ]
     },
     "metadata": {
      "needs_background": "light"
     },
     "output_type": "display_data"
    }
   ],
   "source": [
    "df['test'].plot.box()"
   ]
  },
  {
   "cell_type": "markdown",
   "id": "fba6958d",
   "metadata": {},
   "source": [
    "## Isolation Forest algorithm"
   ]
  },
  {
   "cell_type": "code",
   "execution_count": 7,
   "id": "6f4d7f89",
   "metadata": {},
   "outputs": [],
   "source": [
    "from sklearn.ensemble import IsolationForest\n",
    "import pandas as pd\n",
    "\n",
    "\n",
    "\n",
    "\"\"\"\n",
    " * This class implements the Isolation Forest Method for detecting outliers\n",
    "\"\"\"\n",
    "class IsolationForestMethod:\n",
    "\n",
    "\n",
    "    methodName = \"IsolationForestMethod\"\n",
    "\n",
    "        \n",
    "    \"\"\"\n",
    "     *\n",
    "    \"\"\" \n",
    "    def __init__(self):\n",
    "        \n",
    "        pass\n",
    "\n",
    "\n",
    "    \"\"\"\n",
    "     *\n",
    "    \"\"\" \n",
    "    def getMethodName(self):\n",
    "        return \"Isolation Forest Method\"\n",
    "    \n",
    "        \n",
    "    \"\"\"\n",
    "     *\n",
    "    \"\"\" \n",
    "    def checkAllElementsEqual(self, series):\n",
    "        return len(set(series)) <= 1\n",
    "\n",
    "    \n",
    "    \"\"\"\n",
    "     * Function to detect outliers on one-dimentional datasets\n",
    "    \"\"\"\n",
    "    def findAnomalies(self, series):\n",
    "        outliers = []\n",
    "        \n",
    "        if not self.checkAllElementsEqual(series):\n",
    "            \n",
    "            df = pd.DataFrame({'test':series})\n",
    "            clf = IsolationForest().fit(df['test'].values.reshape(-1, 1)) \n",
    "            outliersInds = clf.predict(df['test'].values.reshape(-1, 1))\n",
    "            \n",
    "            for indx in range(0, len(outliersInds)):\n",
    "\n",
    "                if outliersInds[indx] == -1:\n",
    "                    outliers.append(series[indx])    \n",
    "                    \n",
    "        return outliers\n"
   ]
  },
  {
   "cell_type": "code",
   "execution_count": 8,
   "id": "f0336afc",
   "metadata": {},
   "outputs": [
    {
     "name": "stdout",
     "output_type": "stream",
     "text": [
      "[87.640727, 91.300919, 146.902942, 197.4606, 79.782605, 167.574109, 169.114286, 159.2281, 77.141509, 75.671004, 63, 65, 60, 92, 76.813091, 72.5126, 136.782077, 156.476319, 169.429444, 172.353, 164.957759, 63, 64, 40, 88.050064]\n"
     ]
    }
   ],
   "source": [
    "isolationForest = IsolationForestMethod()\n",
    "\n",
    "outliers_isolation_forest = isolationForest.findAnomalies(series)\n",
    "\n",
    "print(outliers_isolation_forest)"
   ]
  },
  {
   "cell_type": "code",
   "execution_count": 9,
   "id": "10caef2d",
   "metadata": {},
   "outputs": [],
   "source": [
    "from sklearn.linear_model import LogisticRegression\n",
    "from sklearn.model_selection import GridSearchCV\n",
    "from sklearn.model_selection import RepeatedStratifiedKFold\n",
    "\n",
    "# define model\n",
    "model = LogisticRegression()\n",
    "# define search space\n",
    "space = dict()\n",
    "\n",
    "# define search\n",
    "search = GridSearchCV(model, space)\n",
    "\n",
    "# define evaluation\n",
    "cv = RepeatedStratifiedKFold(n_splits=10, n_repeats=3, random_state=1)\n",
    "# define search\n",
    "search = GridSearchCV(model, space, cv=cv)"
   ]
  },
  {
   "cell_type": "code",
   "execution_count": 10,
   "id": "1c5e6afc",
   "metadata": {},
   "outputs": [],
   "source": [
    "# define search\n",
    "search = GridSearchCV(model, space, cv=cv, scoring='neg_mean_absolute_error')"
   ]
  },
  {
   "cell_type": "code",
   "execution_count": 14,
   "id": "1945509f",
   "metadata": {},
   "outputs": [],
   "source": [
    "# define search\n",
    "search = GridSearchCV(model, space, cv=cv, scoring='neg_mean_absolute_error', n_jobs=-1)\n",
    "# execute search\n",
    "result = search.fit(X, y)\n",
    "\n",
    "# summarize result\n",
    "print('Best Score: %s' % result.best_score_)\n",
    "print('Best Hyperparameters: %s' % result.best_params_)"
   ]
  },
  {
   "cell_type": "code",
   "execution_count": null,
   "id": "96355636",
   "metadata": {},
   "outputs": [],
   "source": []
  }
 ],
 "metadata": {
  "kernelspec": {
   "display_name": "Python 3 (ipykernel)",
   "language": "python",
   "name": "python3"
  },
  "language_info": {
   "codemirror_mode": {
    "name": "ipython",
    "version": 3
   },
   "file_extension": ".py",
   "mimetype": "text/x-python",
   "name": "python",
   "nbconvert_exporter": "python",
   "pygments_lexer": "ipython3",
   "version": "3.9.7"
  }
 },
 "nbformat": 4,
 "nbformat_minor": 5
}
